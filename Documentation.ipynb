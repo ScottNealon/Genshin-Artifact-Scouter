{
 "cells": [
  {
   "cell_type": "markdown",
   "id": "14459350",
   "metadata": {},
   "source": [
    "# Documentation.ipynb\n",
    "This is an documentation notebook to show off the capabillities of Genshin Artifact Scouter (GAS).\n",
    "\n",
    "### Helpful starting settings"
   ]
  },
  {
   "cell_type": "code",
   "execution_count": 1,
   "id": "6de8e8e9",
   "metadata": {},
   "outputs": [
    {
     "data": {
      "application/javascript": [
       "IPython.OutputArea.prototype._should_scroll = function(lines) {\n",
       "    return false;\n",
       "}\n"
      ],
      "text/plain": [
       "<IPython.core.display.Javascript object>"
      ]
     },
     "metadata": {},
     "output_type": "display_data"
    }
   ],
   "source": [
    "%%javascript\n",
    "IPython.OutputArea.prototype._should_scroll = function(lines) {\n",
    "    return false;\n",
    "}"
   ]
  },
  {
   "cell_type": "code",
   "execution_count": 2,
   "id": "4a820dbf",
   "metadata": {},
   "outputs": [
    {
     "name": "stdout",
     "output_type": "stream",
     "text": [
      "2021-08-22 23:36:31 - INFO - Logging initialized.\n"
     ]
    },
    {
     "data": {
      "text/html": [
       "<style>.container { width:70% !important; }</style>"
      ],
      "text/plain": [
       "<IPython.core.display.HTML object>"
      ]
     },
     "metadata": {},
     "output_type": "display_data"
    }
   ],
   "source": [
    "from IPython.core.display import display, HTML\n",
    "import os\n",
    "import logging\n",
    "import logging.config\n",
    "\n",
    "config_path = os.path.join(os.path.abspath(''), \"config/logging.conf\") \n",
    "logging.config.fileConfig(config_path)\n",
    "logging.info(\"Logging initialized.\")\n",
    "display(HTML(\"<style>.container { width:70% !important; }</style>\"))"
   ]
  },
  {
   "cell_type": "markdown",
   "id": "44f53db7",
   "metadata": {},
   "source": [
    "## Importing Source Code\n",
    "The following code imports the Python modules used to run GAS. They must be included at the top of every notebook to use them. `genshin_data` will log that data is being imported and calculated. On the first time this script is run, it will download data files from external sources."
   ]
  },
  {
   "cell_type": "code",
   "execution_count": 3,
   "id": "d6369343",
   "metadata": {},
   "outputs": [
    {
     "name": "stdout",
     "output_type": "stream",
     "text": [
      "2021-08-22 23:36:31 - INFO - Importing and calculating data...\n",
      "2021-08-22 23:36:31 - INFO - Data imported and calcualted.\n"
     ]
    }
   ],
   "source": [
    "from src import evaluate, potential, genshin_data\n",
    "from src.artifact import Circlet, Flower, Goblet, Plume, Sands\n",
    "from src.artifacts import Artifacts\n",
    "from src.character import Character\n",
    "from src.go_parser import GenshinOptimizerData\n",
    "from src.weapon import Weapon"
   ]
  },
  {
   "cell_type": "markdown",
   "id": "fd9d1b17",
   "metadata": {},
   "source": [
    "## Importing from Genshin Optimizer\n",
    "This code was designed to function as an offshoot of the great Genshin Optimizer tool by frzyc: https://frzyc.github.io/genshin-optimizer/. GAS can automatically import characters, weapons, and artifacts straight from GO data. Even if you do not use Genshin Optimizer, it is easier to define characters, weapons, and artifacts in GO and import them into GAS than to define them yourself in GAS.\n",
    "\n",
    "To import from GO, you must first download your data from GO from https://frzyc.github.io/genshin-optimizer/#/setting. This will appear in a .json format. Then, copy that data somewhere it is accessable by this notebook. If you are using Jupyter in a web browser, this can be done by going to File > Open (opens a new tab) > Upload. I have provided my data as a sample in ./data/sample_go_data.json.\n",
    "\n",
    "Import your GO data into GAS by passing the following command on the path to your GO data."
   ]
  },
  {
   "cell_type": "code",
   "execution_count": 4,
   "id": "57903093",
   "metadata": {},
   "outputs": [
    {
     "name": "stdout",
     "output_type": "stream",
     "text": [
      "2021-08-22 23:36:31 - INFO - Reading Genshin Optimizer data from data/sample_go_data.json...\n",
      "2021-08-22 23:36:31 - INFO - Characters imported successfully.\n",
      "2021-08-22 23:36:31 - INFO - Artifacts imported successfully.\n"
     ]
    }
   ],
   "source": [
    "go_data = GenshinOptimizerData(\"data/sample_go_data.json\")"
   ]
  },
  {
   "cell_type": "markdown",
   "id": "bc050d22",
   "metadata": {},
   "source": [
    " Let's take a look at what has been imported."
   ]
  },
  {
   "cell_type": "code",
   "execution_count": 5,
   "id": "85febd91",
   "metadata": {},
   "outputs": [
    {
     "data": {
      "text/plain": [
       "{'xingqiu': <src.character.Character at 0x16889b84a60>,\n",
       " 'noelle': <src.character.Character at 0x16889b847c0>,\n",
       " 'barbara': <src.character.Character at 0x168a77dc070>,\n",
       " 'tartaglia': <src.character.Character at 0x168a7881250>,\n",
       " 'qiqi': <src.character.Character at 0x168a7881eb0>,\n",
       " 'fischl': <src.character.Character at 0x168a7881e80>,\n",
       " 'mona': <src.character.Character at 0x168a78817c0>,\n",
       " 'albedo': <src.character.Character at 0x168a7881d00>,\n",
       " 'klee': <src.character.Character at 0x168a7881d90>,\n",
       " 'sucrose': <src.character.Character at 0x168a78814f0>,\n",
       " 'diona': <src.character.Character at 0x168a7881400>,\n",
       " 'beidou': <src.character.Character at 0x168a78811f0>,\n",
       " 'venti': <src.character.Character at 0x168a7881c40>,\n",
       " 'eula': <src.character.Character at 0x168a78817f0>,\n",
       " 'diluc': <src.character.Character at 0x168a7881520>,\n",
       " 'yanfei': <src.character.Character at 0x168a7881850>,\n",
       " 'xiangling': <src.character.Character at 0x168a78812e0>,\n",
       " 'ningguang': <src.character.Character at 0x1688ab373d0>,\n",
       " 'ganyu': <src.character.Character at 0x1688ab37430>,\n",
       " 'bennett': <src.character.Character at 0x1688ab37490>,\n",
       " 'chongyun': <src.character.Character at 0x1688ab374f0>,\n",
       " 'keqing': <src.character.Character at 0x1688ab37550>}"
      ]
     },
     "execution_count": 5,
     "metadata": {},
     "output_type": "execute_result"
    }
   ],
   "source": [
    "# List of all characters imported\n",
    "go_data.characters"
   ]
  },
  {
   "cell_type": "code",
   "execution_count": 6,
   "id": "15d9770b",
   "metadata": {},
   "outputs": [
    {
     "data": {
      "text/plain": [
       "'ganyu'"
      ]
     },
     "execution_count": 6,
     "metadata": {},
     "output_type": "execute_result"
    }
   ],
   "source": [
    "# Retrieve Ganyu\n",
    "ganyu = go_data.get_character(\"Ganyu\")\n",
    "ganyu.name"
   ]
  },
  {
   "cell_type": "code",
   "execution_count": 7,
   "id": "821486fc",
   "metadata": {},
   "outputs": [
    {
     "data": {
      "text/plain": [
       "80"
      ]
     },
     "execution_count": 7,
     "metadata": {},
     "output_type": "execute_result"
    }
   ],
   "source": [
    "# Look at Ganyu's level\n",
    "ganyu.level"
   ]
  },
  {
   "cell_type": "code",
   "execution_count": 8,
   "id": "af454842",
   "metadata": {},
   "outputs": [
    {
     "data": {
      "text/plain": [
       "311.3103343406219"
      ]
     },
     "execution_count": 8,
     "metadata": {},
     "output_type": "execute_result"
    }
   ],
   "source": [
    "# Look at Ganyu's stats\n",
    "ganyu.base_ATK"
   ]
  },
  {
   "cell_type": "code",
   "execution_count": 9,
   "id": "39ce19c4",
   "metadata": {},
   "outputs": [
    {
     "data": {
      "text/plain": [
       "'PrototypeCrescent'"
      ]
     },
     "execution_count": 9,
     "metadata": {},
     "output_type": "execute_result"
    }
   ],
   "source": [
    "# Look at Ganyu's weapon\n",
    "weapon = ganyu.weapon\n",
    "weapon.name"
   ]
  },
  {
   "cell_type": "code",
   "execution_count": 10,
   "id": "4e9b3937",
   "metadata": {},
   "outputs": [
    {
     "data": {
      "text/plain": [
       "{'Crit Rate%': 6.2, 'Crit DMG%': 12.4, 'HP%': 9.9, 'DEF%': 11.7}"
      ]
     },
     "execution_count": 10,
     "metadata": {},
     "output_type": "execute_result"
    }
   ],
   "source": [
    "# Retrieve Ganyu's artifacts\n",
    "ganyu_artifacts = go_data.get_characters_artifacts(\"Ganyu\")\n",
    "ganyu_artifacts.flower.substats"
   ]
  },
  {
   "cell_type": "markdown",
   "id": "54a04810",
   "metadata": {},
   "source": [
    "## Object Types\n",
    "GAS creates 4 core object types: Character, Weapon, Artifact, and Artifacts. If you really want to, you can define them all manually, but I highly recomend you just make them in GO and import them.\n",
    "\n",
    "### Characters\n",
    "Characters are created from the following parameters:\n",
    "- **name** (str): Name of the character. This is used to determine the base stat scaling of the character by comparing to the stats database.\n",
    "- **level** (int) and **ascension** (int): Current level and ascension of the character, used to calculate the current stats of the character.\n",
    "- **dmg_type** (str): The kind of \"damage\" the character deals, either `\"Physical\"`, `\"Elemental\"`, or `\"Healing\"`, which determines whether `\"Physical DMG%\"`, `\"Elemental DMG%\"`, or `\"Healing Bonus%\"` applies to power calculations. There is currently no distinction in the code between different types of Elemental Damages. If imported from GO, defaults to `\"Elemental\"`.\n",
    "- **passive** (dict): Dictionary of additional passive abillities beyond base stats and ascension stats (i.e. Keqing Crit DMG%). Passives are not automatically generated and must be supplied manually, even if using GO import. Passive keys are valid stat strings while values are the corresponding stat increase.\n",
    "- **weapon** (Weapon): Weapon object equipped to character. Weapons can be supplied at instantiation or later, as shown later in this documentation. Evaluation will not function if character does not have a weapon.\n",
    "- **scaling_stat** (str): Stat the character scales with, either `\"ATK\"`, `\"DEF\"` or `\"HP\"`. Slip or dual scalling is not implemented. Defaults to `\"ATK\"` if not defined or imported from GO.\n",
    "- **crits** (str): Whether to apply cits as averages (`\"avgHit\"`), always crit (`\"critHit\"`), or never crit (`\"hit\"`). Defaults to `\"avgHit\"` if not supplied or to setting used in GO if imported.\n",
    "- **amplifying_reaction** (str): Type of amplifying reaction used: `\"hydro_vaporize\"`, `\"pyro_vaporize\"`, `\"pyro_melt\"`, `\"cryo_melt\"` or `\"none\"`. Default `\"None\"` if not provided or to reaction setting used in GO if imported.\n",
    "- **reaction_percentage** (float): Percentage of attacks that result in an amplifying reaction, range of `0.0`% to `100.0`%. Linearly scales damage between if there were no amplifying reactions to if there were only amplifying reaction. Default `0.0`% if reaction is `\"None\"` or `100.0`% otherwise.\n",
    "\n",
    "Characters are equipped with specific weapons but are not equipped with specific artifacts. This is so that one character can be evaluated against a variety of different artifacts but with the same weapon."
   ]
  },
  {
   "cell_type": "code",
   "execution_count": 11,
   "id": "3f903924",
   "metadata": {},
   "outputs": [],
   "source": [
    "keqing_manual = Character(\n",
    "    name=\"keqing\",\n",
    "    level=80,\n",
    "    ascension=6,\n",
    "    dmg_type=\"Elemental\"\n",
    ")\n",
    "keqing_manual.passive = {\n",
    "    \"Crit Rate%\": 15.0\n",
    "}\n",
    "keqing_manual.scaling_stat = \"ATK\"\n",
    "keqing_manual.crits = \"avgHit\"\n",
    "keqing_manual.amplifying_reaction = \"none\"\n",
    "# The following line doesn't matter because amplifying_reaction = \"none\"\n",
    "keqing_manual.reaction_percentage = 0.0"
   ]
  },
  {
   "cell_type": "markdown",
   "id": "c2092c24",
   "metadata": {},
   "source": [
    "Let us fix the Ganyu that we imported from GO since it does not include the passive Elemental DMG% from being in her ult and the 15% and the extra 20% Crit Rate% for Frostflake Arrows after her first. If we wanted to evaluate only her first Frostflake Arrow or when she is not in her ult's radius, we would not include these passives."
   ]
  },
  {
   "cell_type": "code",
   "execution_count": 12,
   "id": "e8176c56",
   "metadata": {},
   "outputs": [],
   "source": [
    "ganyu.passive = {\n",
    "    \"Elemental DMG%\": 15.0,\n",
    "    \"Crit Rate%\": 20.0\n",
    "}"
   ]
  },
  {
   "cell_type": "markdown",
   "id": "49ca3b1b",
   "metadata": {},
   "source": [
    "### Weapons\n",
    "Weapons are created with the following parameters:\n",
    "- **name** (str): Name of the weapon. This is used to determine the base stat scaling of the weapon by comparing to the stats database.\n",
    "- **level** (int) and **ascension** (int): Current level and ascension of the weapon, used to calculate the current stats of the weapon.\n",
    "- **passive** (dict): Dictionary of additional passive abilities beyond base stats and ascension stats (i.e. Keqing Crit DMG%). Passives are not automatically generated and must be supplied manually, even if using GO import. Passive keys are valid stat strings while values are the corresponding stat increase."
   ]
  },
  {
   "cell_type": "code",
   "execution_count": 13,
   "id": "36516418",
   "metadata": {},
   "outputs": [
    {
     "data": {
      "text/plain": [
       "Base HP                0.000000\n",
       "Base ATK             509.605962\n",
       "Base DEF               0.000000\n",
       "HP                     0.000000\n",
       "ATK                    0.000000\n",
       "DEF                    0.000000\n",
       "HP%                    0.000000\n",
       "ATK%                  41.346000\n",
       "DEF%                   0.000000\n",
       "Physical DMG%          0.000000\n",
       "Elemental DMG%         0.000000\n",
       "DMG%                  32.000000\n",
       "Elemental Mastery      0.000000\n",
       "Energy Recharge%       0.000000\n",
       "Crit Rate%             0.000000\n",
       "Crit DMG%              0.000000\n",
       "Healing Bonus%         0.000000\n",
       "probability            0.000000\n",
       "dtype: float64"
      ]
     },
     "execution_count": 13,
     "metadata": {},
     "output_type": "execute_result"
    }
   ],
   "source": [
    "lions_roar_manual = Weapon(\n",
    "    name=\"Lions Roar\",\n",
    "    level=90,\n",
    "    ascension=6,\n",
    "    # Refinement 5\n",
    "    passive={\n",
    "        \"DMG%\": 32.0\n",
    "    }\n",
    ")\n",
    "lions_roar_manual.stats"
   ]
  },
  {
   "cell_type": "code",
   "execution_count": 14,
   "id": "3d5db374",
   "metadata": {},
   "outputs": [
    {
     "data": {
      "text/plain": [
       "Base HP              12182.017519\n",
       "Base ATK               809.798054\n",
       "Base DEF               743.109007\n",
       "HP                       0.000000\n",
       "ATK                      0.000000\n",
       "DEF                      0.000000\n",
       "HP%                      0.000000\n",
       "ATK%                    41.346000\n",
       "DEF%                     0.000000\n",
       "Physical DMG%            0.000000\n",
       "Elemental DMG%           0.000000\n",
       "DMG%                    32.000000\n",
       "Elemental Mastery        0.000000\n",
       "Energy Recharge%         0.000000\n",
       "Crit Rate%              20.000000\n",
       "Crit DMG%               88.400000\n",
       "Healing Bonus%           0.000000\n",
       "probability              0.000000\n",
       "dtype: float64"
      ]
     },
     "execution_count": 14,
     "metadata": {},
     "output_type": "execute_result"
    }
   ],
   "source": [
    "keqing_manual.weapon = lions_roar_manual\n",
    "keqing_manual.stats"
   ]
  },
  {
   "cell_type": "markdown",
   "id": "4cfb4ac7",
   "metadata": {},
   "source": [
    "Let us fix Ganyu's Prototype Cresent that we imported from GO since it doesn't include the all important ATK% bonus for headshots. We are going to presume that passive is active for our analysis."
   ]
  },
  {
   "cell_type": "code",
   "execution_count": 15,
   "id": "3761e092",
   "metadata": {},
   "outputs": [],
   "source": [
    "ganyu.weapon.passive = {\n",
    "    # Refinement 5\n",
    "    \"ATK%\": 72.0\n",
    "}"
   ]
  },
  {
   "cell_type": "markdown",
   "id": "24d2ef8a",
   "metadata": {},
   "source": [
    "### Artifact\n",
    "Artifacts must be constructured from their respective slot constructor: `Flower()`, `Plume()`, `Sands()`, `Goblet()`, or `Circlet()`. Artifact are created with the following parameters:\n",
    "- **main_stat** (str): Main stat for artifact. Main stat must be compatable with the artifact slot, i.e. you cannot have a Elemental DMG% Flower.\n",
    "- **stars** (int): Number of stars\n",
    "- **level** (int): Level of artifact, must not exceede stars limited by `stars`.\n",
    "- **set_str** (str): Set associated with artifact.\n",
    "- **substats** (dict[str, float]): Dictionary of substats, keyed to substat string with value as substat value. "
   ]
  },
  {
   "cell_type": "code",
   "execution_count": 16,
   "id": "11268c94",
   "metadata": {},
   "outputs": [
    {
     "data": {
      "text/plain": [
       "Base HP               0.0\n",
       "Base ATK              0.0\n",
       "Base DEF              0.0\n",
       "HP                    0.0\n",
       "ATK                  18.0\n",
       "DEF                   0.0\n",
       "HP%                   4.6\n",
       "ATK%                  7.0\n",
       "DEF%                  0.0\n",
       "Physical DMG%         0.0\n",
       "Elemental DMG%        0.0\n",
       "DMG%                  0.0\n",
       "Elemental Mastery    21.0\n",
       "Energy Recharge%      0.0\n",
       "Crit Rate%            0.0\n",
       "Crit DMG%             0.0\n",
       "Healing Bonus%        0.0\n",
       "probability           0.0\n",
       "dtype: float64"
      ]
     },
     "execution_count": 16,
     "metadata": {},
     "output_type": "execute_result"
    }
   ],
   "source": [
    "sands = Sands(\n",
    "    main_stat=\"ATK%\",\n",
    "    stars=5,\n",
    "    level=0,\n",
    "    set_str=\"gladiators\",\n",
    "    substats={\n",
    "        \"ATK\": 18,\n",
    "        \"HP%\": 4.6,\n",
    "        \"Elemental Mastery\": 21\n",
    "    }\n",
    ")\n",
    "sands.stats"
   ]
  },
  {
   "cell_type": "markdown",
   "id": "4aa5b27b",
   "metadata": {},
   "source": [
    "### Artifacts\n",
    "An \"Artifacts\" object represents a set of artifact objects, including up to one of each `Flower()`, `Plume()`, `Sands()`, `Goblet()`, and `Circlet()`. Artifacts are created with the following parameters:\n",
    "- **artifacts** (list[Artifact]): List of artifacts to equip. Can include either 0 or 1 of each artifact type.\n",
    "- **use_set_bonus** (bool): Flag for whether to factor set bonuses into stats, defaults to True if not provided."
   ]
  },
  {
   "cell_type": "code",
   "execution_count": 17,
   "id": "c11a6519",
   "metadata": {},
   "outputs": [
    {
     "data": {
      "text/plain": [
       "Base HP                0.0\n",
       "Base ATK               0.0\n",
       "Base DEF               0.0\n",
       "HP                   717.0\n",
       "ATK                   65.0\n",
       "DEF                    0.0\n",
       "HP%                    4.6\n",
       "ATK%                  25.0\n",
       "DEF%                   0.0\n",
       "Physical DMG%          0.0\n",
       "Elemental DMG%         7.0\n",
       "DMG%                  20.0\n",
       "Elemental Mastery     21.0\n",
       "Energy Recharge%       0.0\n",
       "Crit Rate%             4.7\n",
       "Crit DMG%              0.0\n",
       "Healing Bonus%         0.0\n",
       "probability            0.0\n",
       "dtype: float64"
      ]
     },
     "execution_count": 17,
     "metadata": {},
     "output_type": "execute_result"
    }
   ],
   "source": [
    "flower = Flower(main_stat=\"HP\", stars=5, level=0, set_str=\"gladiators\", substats={})\n",
    "plume = Plume(main_stat=\"ATK\", stars=5, level=0, set_str=\"noblesse\", substats={})\n",
    "goblet = Goblet(main_stat=\"Elemental DMG%\", stars=5, level=0, set_str=\"noblesse\", substats={})\n",
    "circlet = Circlet(main_stat=\"Crit Rate%\", stars=5, level=0, set_str=\"witch\", substats={})\n",
    "\n",
    "artifacts = Artifacts(artifacts=[flower, plume, sands, goblet, circlet], use_set_bonus=True)\n",
    "artifacts.stats"
   ]
  },
  {
   "cell_type": "markdown",
   "id": "aac390ef",
   "metadata": {},
   "source": [
    "## Evaluate\n",
    "\n",
    "### Stats\n",
    "Once you have a character with a weapon and an artifacts object, you can calculate the stats of all the components together"
   ]
  },
  {
   "cell_type": "code",
   "execution_count": 18,
   "id": "254750cf",
   "metadata": {},
   "outputs": [
    {
     "data": {
      "text/plain": [
       "Base HP              9108.050365\n",
       "Base ATK              820.916297\n",
       "Base DEF              585.912861\n",
       "HP                   5706.000000\n",
       "ATK                   338.000000\n",
       "DEF                    16.000000\n",
       "HP%                    30.300000\n",
       "ATK%                  189.146000\n",
       "DEF%                   21.900000\n",
       "Physical DMG%           0.000000\n",
       "Elemental DMG%         76.600000\n",
       "DMG%                    0.000000\n",
       "Elemental Mastery      16.000000\n",
       "Energy Recharge%       37.000000\n",
       "Crit Rate%             83.200000\n",
       "Crit DMG%             181.700000\n",
       "Healing Bonus%          0.000000\n",
       "probability             0.000000\n",
       "dtype: float64"
      ]
     },
     "execution_count": 18,
     "metadata": {},
     "output_type": "execute_result"
    }
   ],
   "source": [
    "evaluate.evaluate_stats(character=ganyu, artifacts=ganyu_artifacts)"
   ]
  },
  {
   "cell_type": "markdown",
   "id": "caa9889d",
   "metadata": {},
   "source": [
    "### Power\n",
    "Power is a target agnostic measure of the \"strength\" of a character. It does take into account the scaling stats shown above, but does not take into affect the scaling due to talent level, character vs target level, target DEF, or target RES. Since the objective of this tool is to relativistically compare artifacts to each other, this is not an issue as these effects would apply equally between artifacts. If you are looking for raw damage numbers, I recomend using Genshin Optimizer."
   ]
  },
  {
   "cell_type": "code",
   "execution_count": 19,
   "id": "a1e13956",
   "metadata": {},
   "outputs": [
    {
     "data": {
      "text/plain": [
       "12028.159212735147"
      ]
     },
     "execution_count": 19,
     "metadata": {},
     "output_type": "execute_result"
    }
   ],
   "source": [
    "evaluate.evaluate_power(character=ganyu, artifacts=ganyu_artifacts)"
   ]
  },
  {
   "cell_type": "markdown",
   "id": "5c68d04a",
   "metadata": {},
   "source": [
    "## Slot Potential\n",
    "Slot potential evaluates the range of possible "
   ]
  },
  {
   "cell_type": "code",
   "execution_count": 20,
   "id": "fe11ef04",
   "metadata": {},
   "outputs": [
    {
     "name": "stdout",
     "output_type": "stream",
     "text": [
      "2021-08-22 23:36:32 - INFO - --------------------------------------------------------------------------------------------------------------\n",
      "2021-08-22 23:36:32 - INFO - Evaluating potential of Plume slot...\n",
      "2021-08-22 23:36:32 - INFO - CHARACTER: Ganyu, 80/90\n",
      "2021-08-22 23:36:32 - INFO - WEAPON: Prototype Crescent, 90/90\n",
      "2021-08-22 23:36:32 - INFO - ARTIFACT:\n",
      "2021-08-22 23:36:32 - INFO -   Plume 5*        Blizard 20/20               ATK:  311\n",
      "2021-08-22 23:36:32 - INFO - EQUIPPED ARTIFACTS:                                       HP  ATK  DEF  HP% ATK% DEF%   EM  ER%  CR%  CD%\n",
      "2021-08-22 23:36:32 - INFO -  Flower 5*        Blizard 20/20                HP: 4780                 9.9      11.7            6.2 12.4\n",
      "2021-08-22 23:36:32 - INFO -   Sands 5*        Blizard 20/20              ATK%: 46.6             16           10.2            5.4 18.7\n",
      "2021-08-22 23:36:32 - INFO -  Goblet 5*      Wanderers 20/20    Elemental DMG%: 46.6  478   27       9.9 14.0                         \n",
      "2021-08-22 23:36:32 - INFO - Circlet 5*        Blizard 20/20         Crit DMG%: 62.2  448                 4.1        16 24.0          \n",
      "2021-08-22 23:36:32 - INFO - BASE POWER: 12,028\n",
      "2021-08-22 23:36:33 - INFO - 106,800 different ways to roll condensed substats.\n",
      "2021-08-22 23:36:33 - INFO - Slot Min Power:  11,069 |  +0.0% |   0.0th Slot Percentile\n",
      "2021-08-22 23:36:33 - INFO - Slot Avg Power:  11,587 |  +4.7% |  54.0th Slot Percentile\n",
      "2021-08-22 23:36:33 - INFO - Base Power:      12,028 |  +8.7% |  84.3rd Slot Percentile\n",
      "2021-08-22 23:36:33 - INFO - Slot Max Power:  13,640 | +23.2% | 100.0th Slot Percentile\n",
      "2021-08-22 23:36:33 - INFO - ----------\n",
      "2021-08-22 23:36:33 - INFO - Plotting slot...\n",
      "2021-08-22 23:36:34 - INFO - Slot plotted.\n"
     ]
    },
    {
     "data": {
      "image/png": "[encoded data removed]",
      "text/plain": [
       "<Figure size 1500x750 with 3 Axes>"
      ]
     },
     "metadata": {
      "needs_background": "light"
     },
     "output_type": "display_data"
    }
   ],
   "source": [
    "slot_potentials = potential.slot_potential(character=ganyu, equipped_artifacts=ganyu_artifacts, slot=Plume, plot=True)"
   ]
  },
  {
   "cell_type": "code",
   "execution_count": 21,
   "id": "5d5fb45b",
   "metadata": {
    "scrolled": false
   },
   "outputs": [],
   "source": [
    "# slot_potentials = potential.slot_potential(character=ganyu, equipped_artifacts=ganyu_artifacts, slot=Plume, plot=True, smooth=True)"
   ]
  },
  {
   "cell_type": "code",
   "execution_count": 22,
   "id": "e0cce8b4",
   "metadata": {},
   "outputs": [],
   "source": [
    "# slot_potentials = potential.all_slots_potentials(character=ganyu, equipped_artifacts=ganyu_artifacts, plot=True)"
   ]
  },
  {
   "cell_type": "markdown",
   "id": "5fb43533",
   "metadata": {},
   "source": [
    "## Ploting\n",
    "TODO"
   ]
  },
  {
   "cell_type": "markdown",
   "id": "372a381b",
   "metadata": {},
   "source": [
    "## Stats\n",
    "\n",
    "NOTE: Percentage stats (`\"ATK%\"`, `\"Crit Rate%\"`, etc) are scaled based on human readable percentages, such that `18.0` = `18%`. \n",
    "\n",
    "**Valid Passive Stats**\n",
    "\n",
    "`\"Base HP\"`, `\"Base ATK\"`, `\"Base DEF\"`, `\"HP\"`, `\"ATK\"`, `\"DEF\"`, `\"HP%\"`, `\"ATK%\"`, `\"DEF%\"`, `\"Elemental Mastery\"`, `\"Energy Recharge%\"`, `\"Crit Rate%\"`, `\"Crit DMG%\"`, `\"Physical DMG%\"`, `\"Elemental DMG%\"`, `\"DMG%\"`, `\"Healing Bonus%\"`\n",
    "\n",
    "**Valid Main Stats**\n",
    "\n",
    "`Flower()`: `\"HP\"`\n",
    "\n",
    "`Plume()`: `\"ATK\"`\n",
    "\n",
    "`Sands()`: `\"HP%\"`, `\"ATK%\"`, `\"DEF%\"`, `\"Elemental Mastery\"`, `\"Energy Recharge%\"`\n",
    "\n",
    "`Goblet()`: `\"HP%\"`, `\"ATK%\"`, `\"DEF%\"`, `\"Elemental Mastery\"`, `\"Elemental DMG%\"`, `\"Physical DMG%\"`\n",
    "\n",
    "`Circlet()`: `\"HP%\"`, `\"ATK%\"`, `\"DEF%\"`, `\"Elemental Mastery\"`, `\"Crit Rate%\"`, `\"Crit DMG%\"`, `\"Healing Bonus%\"`\n",
    "\n",
    "**Valid Substats**\n",
    "\n",
    "`\"HP\"`, `\"ATK\"`, `\"DEF\"`, `\"HP%\"`, `\"ATK%\"`, `\"DEF%\"`, `\"Elemental Mastery\"`, `\"Energy Recharge%\"`, `\"Crit Rate%\"`, `\"Crit DMG%\"`\n",
    "\n",
    "**Valid Sets**\n",
    "\n",
    "`\"initiate\"`, `\"adventurer\"`, `\"lucky\"`, `\"doctor\"`, `\"resolution\"`, `\"miracle\"`, `\"berserker\"`, `\"instructor\"`, `\"exile\"`, `\"defenders\"`, `\"brave\"`, `\"martial\"`, `\"gambler\"`, `\"scholar\"`, `\"illumination\"`, `\"destiny\"`, `\"wisdom\"`, `\"springtime\"`, `\"gladiators\"`, `\"wanderers\"`, `\"thundersoother\"`, `\"thundering\"`, `\"maiden\"`, `\"viridescent\"`, `\"witch\"`, `\"lavawalker\"`, `\"noblesse\"`, `\"chivalry\"`, `\"petra\"`, `\"bolide\"`, `\"blizard\"`, `\"depth\"`, `\"millelith\"`, `\"pale\"`, `\"emblem\"`, `\"reminiscence\"`, `\"\"`\n",
    "\n",
    "**Set Bonuses**\n",
    "`\"initiate\"`:       `[{}, {}]`\n",
    "\n",
    "`\"adventurer\"`:     `[{\"HP\": 1000}, {}]`\n",
    "\n",
    "`\"lucky\"`:          `[{\"DEF\": 100}, {}]`\n",
    "\n",
    "`\"doctor\"`:         `[{\"Healing Bonus%\": 20.0}, {}]`\n",
    "\n",
    "`\"resolution\"`:     `[{\"ATK%\": 18.0}, {\"Crit Rate%\": 30.0}]`\n",
    "\n",
    "`\"miracle\"`:        `[{}, {}]`\n",
    "\n",
    "`\"berserker\"`:      `[{\"Crit Rate%\": 12.0}, {}]`\n",
    "\n",
    "`\"instructor\"`:     `[{\"Elemental Mastery\": 80}, {\"Elemental Mastery\": 120}]`\n",
    "\n",
    "`\"exile\"`:          `[{\"Energy Recharge%\": 20.0}, {}]`\n",
    "\n",
    "`\"defenders\"`:      `[{\"DEF%\": 30.0}, {}]`\n",
    "\n",
    "`\"brave\"`:          `[{\"ATK%\": 18.0}, {\"DMG%\": 15.0}]`\n",
    "\n",
    "`\"martial\"`:        `[{\"DMG%\": 15.0}, {\"DMG%\": 25.0}]`\n",
    "\n",
    "`\"gambler\"`:        `[{\"DMG%\": 20.0}, {}]`\n",
    "\n",
    "`\"scholar\"`:        `[{\"Energy Recharge%\": 20.0}, {}]`\n",
    "\n",
    "`\"illumination\"`:   `[{}, {}]`\n",
    "\n",
    "`\"destiny\"`:        `[{}, {}]`\n",
    "\n",
    "`\"wisdom\"`:         `[{}, {}]`\n",
    "\n",
    "`\"springtime\"`:     `[{}, {}]`\n",
    "\n",
    "`\"gladiators\"`:     `[{\"ATK%\": 18.0}, {\"DMG%\": 35.0}]`\n",
    "\n",
    "`\"wanderers\"`:      `[{\"Elemental Mastery\": 80}, {\"DMG%\": 35.0}]`\n",
    "\n",
    "`\"thundersoother\"`: `[{}, {\"DMG%\": 35.0}]`\n",
    "\n",
    "`\"thundering\"`:     `[{\"Elemental DMG%\": 15.0}, {}]`\n",
    "\n",
    "`\"maiden\"`:         `[{\"Healing Bonus%\": 15.0}, {\"Healing Bonus%\": 20.0}]`\n",
    "\n",
    "`\"viridescent\"`:    `[{\"Elemental DMG%\": 15.0}, {}]`\n",
    "\n",
    "`\"witch\"`:          `[{\"Elemental DMG%\": 15.0}, {\"DMG%\": 15.0}]`\n",
    "\n",
    "`\"lavawalker\"`:     `[{}, {\"DMG%\": 35.0}]`\n",
    "\n",
    "`\"noblesse\"`:       `[{\"DMG%\": 20.0}, {}]`\n",
    "\n",
    "`\"chivalry\"`:       `[{\"Physical DMG%\": 25.0}, {\"DMG%\": 50.0}]`\n",
    "\n",
    "`\"petra\"`:          `[{\"Elemental DMG%\": 15.0}, {}]`\n",
    "\n",
    "`\"bolide\"`:         `[{}, {\"DMG%\": 40.0}]`\n",
    "\n",
    "`\"blizard\"`:        `[{\"Elemental DMG%\": 15.0}, {\"Crit Rate%\": 40.0}]`\n",
    "\n",
    "`\"depth\"`:          `[{\"Elemental DMG%\": 15.0}, {\"DMG%\": 30.0}]`\n",
    "\n",
    "`\"millelith\"`:      `[{\"HP%\": 20.0}, {\"ATK%\": 20.0}]`\n",
    "\n",
    "`\"pale\"`:           `[{\"Physical DMG%\": 25.0}, {\"ATK%\": 18.0, 'Physical DMG%\": 15.0}]`\n",
    "\n",
    "`\"emblem\"`:         `[{\"Energy Recharge%\": 20.0}, {}]`\n",
    "\n",
    "`\"reminiscence\"`:   `[{\"ATK%\": 18.0}, {\"DMG%\": 50.0}]`\n",
    "\n",
    "`\"\"`:               `[{}, {}]`"
   ]
  }
 ],
 "metadata": {
  "kernelspec": {
   "display_name": "Python 3 (ipykernel)",
   "language": "python",
   "name": "python3"
  },
  "language_info": {
   "codemirror_mode": {
    "name": "ipython",
    "version": 3
   },
   "file_extension": ".py",
   "mimetype": "text/x-python",
   "name": "python",
   "nbconvert_exporter": "python",
   "pygments_lexer": "ipython3",
   "version": "3.9.6"
  }
 },
 "nbformat": 4,
 "nbformat_minor": 5
}
