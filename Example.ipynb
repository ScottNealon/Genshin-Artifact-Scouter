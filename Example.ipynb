{
 "cells": [
  {
   "cell_type": "markdown",
   "id": "439c28a5",
   "metadata": {},
   "source": []
  },
  {
   "cell_type": "markdown",
   "id": "4b39fb30",
   "metadata": {},
   "source": [
    "# Example.ipynb\n",
    "This is an example notebook to show off the capabillities of Genshin Artifact Scouter (GAS)."
   ]
  },
  {
   "cell_type": "markdown",
   "id": "20462433",
   "metadata": {},
   "source": [
    "### Logging\n",
    "The following code sets up the logging format used by the loggers in the different modules."
   ]
  },
  {
   "cell_type": "code",
   "execution_count": 1,
   "id": "38e6a93e",
   "metadata": {},
   "outputs": [
    {
     "name": "stdout",
     "output_type": "stream",
     "text": [
      "2021-08-22 18:13:34 - INFO - Logging initialized.\n"
     ]
    }
   ],
   "source": [
    "import logging\n",
    "import logging.config\n",
    "\n",
    "logging.config.fileConfig(\"config\\logging.conf\")\n",
    "logging.info(\"Logging initialized.\")"
   ]
  },
  {
   "cell_type": "markdown",
   "id": "252b16b6",
   "metadata": {},
   "source": [
    "## Importing Source\n",
    "The following code imports the Python modules used to run GAS. They must be included at the top of every notebook to use them. `genshin_data` will log that data is being imported and calculated. On the first time this script is run, it will download data files from external sources."
   ]
  },
  {
   "cell_type": "code",
   "execution_count": 9,
   "id": "67df6343",
   "metadata": {},
   "outputs": [],
   "source": [
    "from src import evaluate, potential, genshin_data\n",
    "from src.artifact import Circlet, Flower, Goblet, Plume, Sands\n",
    "from src.artifacts import Artifacts\n",
    "from src.character import Character\n",
    "from src.go_parser import GenshinOptimizerData\n",
    "from src.weapon import Weapon"
   ]
  },
  {
   "cell_type": "markdown",
   "id": "2f8d0c9d",
   "metadata": {},
   "source": [
    "## Importing from Genshin Optimizer\n",
    "This code was designed to function as an offshoot of the great Genshin Optimizer tool by frzyc: https://frzyc.github.io/genshin-optimizer/. GAS can automatically import characters, weapons, and artifacts straight from GO data. Even if you do not use Genshin Optimizer, it is easier to define characters, weapons, and artifacts in GO and import them into GAS than to define them yourself in GAS.\n",
    "\n",
    "To import from GO, you must first download your data from GO from https://frzyc.github.io/genshin-optimizer/#/setting."
   ]
  },
  {
   "cell_type": "code",
   "execution_count": null,
   "id": "3fd3b55b",
   "metadata": {},
   "outputs": [],
   "source": []
  },
  {
   "cell_type": "markdown",
   "id": "8189aaed",
   "metadata": {},
   "source": [
    "## Establishing Context\n",
    "A core philosophy of GAS is that \"Everything requires context\". An artifact's potential cannot be evaluate in a vacuum: an artifact that is great on a Vape Hu Tao with a Staff of Homa might not work as well on a Physical Damage Keqing with a Black Sword.\n",
    "\n",
    "### Weapons\n",
    "Before creating artifacts or characters, \n",
    "\n",
    "First step to creating a character is actually to create their weapon. Weapon Base Attacks and Ascension Stats (ATK%, Crit Rate%, etc.) are automatically imported from datamined sources. GAS does not currently allow custom weapons."
   ]
  },
  {
   "cell_type": "code",
   "execution_count": 5,
   "id": "4ead3beb",
   "metadata": {},
   "outputs": [],
   "source": [
    "# Create Level 90/90 Black Sword\n",
    "black_sword = Weapon(name=\"The Black Sword\", level=90, ascension=6)"
   ]
  },
  {
   "cell_type": "markdown",
   "id": "d919da2c",
   "metadata": {},
   "source": [
    "Automatic importing of weapon passives have yet to be implemented. For now, passives must be defined manually as a dictionary with keys equating to the stat being modified and values equating to the change in said stat.\n",
    "\n",
    "Stats must be one of the following: `'Base HP', 'Base ATK', 'Base DEF', 'HP', 'ATK', 'DEF', 'HP%', 'ATK%', 'DEF%', 'Physical DMG%', 'Elemental DMG%', 'DMG%', 'Elemental Mastery', 'Energy Recharge%', 'Crit Rate%', 'Crit DMG%', 'Healing Bonus%'`.\n",
    "\n",
    "Values for stats measured in percentages, like `HP%` or `ATK%` are stored such that `20.0 -> 20%`. Do not use `0.2` thinking it equals `20%`. "
   ]
  },
  {
   "cell_type": "code",
   "execution_count": 7,
   "id": "57f30bbb",
   "metadata": {},
   "outputs": [],
   "source": [
    "# Set Refinement 1 passive\n",
    "black_sword.passive = {\n",
    "    \"DMG%\": 20\n",
    "}"
   ]
  },
  {
   "cell_type": "markdown",
   "id": "e83906bc",
   "metadata": {},
   "source": []
  }
 ],
 "metadata": {
  "kernelspec": {
   "display_name": "Python 3 (ipykernel)",
   "language": "python",
   "name": "python3"
  },
  "language_info": {
   "codemirror_mode": {
    "name": "ipython",
    "version": 3
   },
   "file_extension": ".py",
   "mimetype": "text/x-python",
   "name": "python",
   "nbconvert_exporter": "python",
   "pygments_lexer": "ipython3",
   "version": "3.9.6"
  }
 },
 "nbformat": 4,
 "nbformat_minor": 5
}
